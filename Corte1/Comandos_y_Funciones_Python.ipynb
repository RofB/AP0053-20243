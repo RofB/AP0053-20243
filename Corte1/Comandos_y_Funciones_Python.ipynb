{
  "nbformat": 4,
  "nbformat_minor": 0,
  "metadata": {
    "colab": {
      "provenance": [],
      "authorship_tag": "ABX9TyMmwgAI9VEiGuOKkHV/ApWF",
      "include_colab_link": true
    },
    "kernelspec": {
      "name": "python3",
      "display_name": "Python 3"
    },
    "language_info": {
      "name": "python"
    }
  },
  "cells": [
    {
      "cell_type": "markdown",
      "metadata": {
        "id": "view-in-github",
        "colab_type": "text"
      },
      "source": [
        "<a href=\"https://colab.research.google.com/github/RofB/AP0053-20243/blob/main/Corte1/Comandos_y_Funciones_Python.ipynb\" target=\"_parent\"><img src=\"https://colab.research.google.com/assets/colab-badge.svg\" alt=\"Open In Colab\"/></a>"
      ]
    },
    {
      "cell_type": "markdown",
      "source": [
        "**Divisible por un numero**"
      ],
      "metadata": {
        "id": "JUVdqPmQUw0s"
      }
    },
    {
      "cell_type": "code",
      "execution_count": null,
      "metadata": {
        "collapsed": true,
        "id": "vtxUlOkJe7t0"
      },
      "outputs": [],
      "source": [
        "for i in range(100, 301):  #Rango de 100 hasta 300 (No incluye el limite final)\n",
        "    if (i%12) != 0:       #El % me devuelve el residuo de una division\n",
        "      continue           #Se salta las iteraciones pendientes y vuelve a evaluar\n",
        "    print(i)"
      ]
    },
    {
      "cell_type": "markdown",
      "source": [
        "**Calculo de un Factorial**"
      ],
      "metadata": {
        "id": "kiO2S5ZLU5Hi"
      }
    },
    {
      "cell_type": "code",
      "source": [
        "while True:\n",
        "\n",
        "    num = int(input(\"Ingrese un numero entero positivo: \"))\n",
        "    print(\"Su numero es: \", num)\n",
        "    a = isinstance(num, int)         #Devuelve un true si la variable evaluada es de ese tipo\n",
        "    if a == True and num > 0:\n",
        "        fact = 1\n",
        "        for i in range (1, num + 1):   #Range cuenta desde 0 si no se pone un limite\n",
        "            fact = fact*i\n",
        "        print(f'El factorial de {num} es: ', fact)\n",
        "    else:\n",
        "        print(\"Por favor, ingrese un numero positivo entero\")"
      ],
      "metadata": {
        "id": "0f5Kfui9ijvj"
      },
      "execution_count": null,
      "outputs": []
    },
    {
      "cell_type": "markdown",
      "source": [
        "**Comparación del tipo de numeros**"
      ],
      "metadata": {
        "id": "Z9j-jwe7VXGA"
      }
    },
    {
      "cell_type": "code",
      "source": [
        "a = input(\"Ingrese el un numero a: \")\n",
        "a = float(a)\n",
        "b = input(\"Ingrese un numero b: \")\n",
        "b = int(b)\n",
        "c = a + b\n",
        "\n",
        "if a == b:  # == Compara si son iguales\n",
        "    print(\"Son numeros iguales\")\n",
        "else:\n",
        "    print(\"Son numeros diferentes\")\n",
        "\n",
        "print(\"El tipo de a es: \", type(a))  #type() me devuelve el tipo de variable\n",
        "print(\"El tipo de b es: \", type(b))\n",
        "print(\"c = \", c)\n",
        "\n",
        "if type(a) == type(b):\n",
        "    print(\"a y b son del mismo tipo\")\n",
        "else:\n",
        "    print(\"a y b son de direfente tipo\")"
      ],
      "metadata": {
        "id": "tZq1rZbZrIvD"
      },
      "execution_count": null,
      "outputs": []
    },
    {
      "cell_type": "markdown",
      "source": [
        "**Par e Impar, Elevado, Temporizador**"
      ],
      "metadata": {
        "id": "YlCyUfh5Wq0N"
      }
    },
    {
      "cell_type": "code",
      "source": [
        "import time\n",
        "\n",
        "for i in range (1,11):\n",
        "     residual = i%2\n",
        "     if residual == 0:\n",
        "         print(f'{i} es par')\n",
        "     else:\n",
        "         #print(f'{i} es impar')  #Una forma de imprimir\n",
        "         print(str(i) + ' es impar')  #Otra forma de imprimir\n",
        "\n",
        "##############################################################\n",
        "\n",
        "for i in range (0,6):\n",
        "    result = i**3    #** Es un numero elevado otro\n",
        "    print(f\"{i} elevado 3 es: {result}\")\n",
        "\n",
        "##############################################################\n",
        "\n",
        "cont = input(\"Ingresa un tiempo: \")\n",
        "cont = float(cont)  #Asigna un tipo de dato a la variable\n",
        "cont = int(cont)  #Cambia el tipo de dato de la variable\n",
        "\n",
        "if cont == 0:\n",
        "    print(\"Su tiempo fue 0\")\n",
        "else:\n",
        "    for i in range(1,cont+1):\n",
        "        time.sleep(1)\n",
        "        print(\"i = \", i)"
      ],
      "metadata": {
        "id": "urCpHh8tr13j"
      },
      "execution_count": null,
      "outputs": []
    },
    {
      "cell_type": "markdown",
      "source": [
        "**Exclusion de letra escogida**"
      ],
      "metadata": {
        "id": "-G2RVvr6kbJU"
      }
    },
    {
      "cell_type": "code",
      "source": [
        "import time\n",
        "\n",
        "cadena = 'Python'\n",
        "\n",
        "for letra in cadena:  #Recorre cada letra de la cadena\n",
        "   if letra == 't':\n",
        "      continue  #Se salta las iteraciones pendientes y vuelve a evaluar el ciclo\n",
        "   print(letra)\n",
        "   time.sleep(1)\n"
      ],
      "metadata": {
        "id": "rclBrAhAGXoG"
      },
      "execution_count": null,
      "outputs": []
    },
    {
      "cell_type": "markdown",
      "source": [
        "**Grafica en un plano 2D**"
      ],
      "metadata": {
        "id": "xJHFBcYVmJE5"
      }
    },
    {
      "cell_type": "code",
      "source": [
        "import random  #Importamos una libreria que nos permite generar numeros aleatorios\n",
        "from matplotlib import pyplot as plt  #Importamos una libreria que nos permite realizar graficas\n",
        "\n",
        "a = range(1, 13)  #Rango de 1 a 12\n",
        "b = [random.randint(1, 1000) for i in range(12)]  #Se realiza la eleccion de 12 valores aleatorios en un rango de 1 a 1000\n",
        "plt.plot(a, b)  #Graficamos la respectiva grafica siendo ejes(x, y) respectivamente\n",
        "plt.show(True)"
      ],
      "metadata": {
        "id": "X5xlfE8QGrI9"
      },
      "execution_count": null,
      "outputs": []
    },
    {
      "cell_type": "markdown",
      "source": [
        "**Numeros primos y Contador de ejecución**"
      ],
      "metadata": {
        "id": "bm6CTN-unxK8"
      }
    },
    {
      "cell_type": "code",
      "source": [
        "import time\n",
        "inicio = time.time()  #Inicia un conteo\n",
        "\n",
        "for i in range(0,31):  #Elige el numero actual a evaluar\n",
        "    conta = 0\n",
        "    for n in range(1, i+1):  #Evalua el numero entre 1 y el actual\n",
        "        residue = i%n\n",
        "        if residue == 0:  #El numero para ser primo, solo debe ser divisible por 1 y el mismo\n",
        "            conta = conta + 1\n",
        "\n",
        "    if conta == 2:  #Si el conteo de los numeros por los que fue divisible es 2, entonces es primo\n",
        "        print(f'{i} es un primo')\n",
        "        #print(\"\\n\")  #Imprime para dejar un renglon entre lineas\n",
        "        time.sleep(0.5)\n",
        "\n",
        "fin = time.time()  #Termina el conteo\n",
        "print(\"t = \", (fin - inicio))  #Imprime el conteo realizado en segundos"
      ],
      "metadata": {
        "id": "VHyRi35-G55V"
      },
      "execution_count": null,
      "outputs": []
    },
    {
      "cell_type": "markdown",
      "source": [
        "**Numeros primos con eleccion de finalización**"
      ],
      "metadata": {
        "id": "3QnzzLraxfWG"
      }
    },
    {
      "cell_type": "code",
      "source": [
        "a = 1   #Nos pérmite ingresar al ciclo inicialmente\n",
        "value = input('Ingrese un valor')\n",
        "value = int(value)\n",
        "\n",
        "while a == 1:\n",
        "    for i in range(1,value+1):  #Rango de 1 hasta el numero ingresado\n",
        "        conta = 0\n",
        "        for n in range(1, i+1):\n",
        "            residue = i%n   #Evalua si numero actual es divisible sin residuo, hasta el numero ingresado\n",
        "            if residue == 0:  #Si es divisible (teniendo que llegar a 2 para ser primo, por serlo unicamente del 1 y el mismo)\n",
        "                conta = conta + 1\n",
        "\n",
        "    if conta == 2:  #Si el conteo de los numeros por los que fue divisible es 2, entonces es primo\n",
        "       print(f'{i} es un primo')\n",
        "       print(\"\\n\")\n",
        "    else:           #Si el conteo es diferente de 2, entonces no es primo\n",
        "       print(f'{i} no es un primo')\n",
        "       print(\"\\n\")\n",
        "\n",
        "    print('Quiere continuar?. Ingrese 1 para \"SI\"')\n",
        "    a = input()\n",
        "    a = int(a)\n",
        "\n",
        "    if a != 1:  #Si el numero que ingreso el usuario es diferente de 0, salimos del ciclo, saltando los proximas iteraciónes\n",
        "        break\n",
        "\n",
        "    value = input('Ingrese un valor') #Volvemos a preguntar al usuario un valor para volver a evaluar en el ciclo\n",
        "    value = int(value)"
      ],
      "metadata": {
        "id": "GA5i8OhjHLQt"
      },
      "execution_count": null,
      "outputs": []
    },
    {
      "cell_type": "markdown",
      "source": [
        "**Tipo de dato Booleano**"
      ],
      "metadata": {
        "id": "Xt3SEYH80O-U"
      }
    },
    {
      "cell_type": "code",
      "source": [
        "my_cool_variable = 7 + 8 == 11  #Si la == se cumple sera True, o False de lo contrario\n",
        "print(my_cool_variable)"
      ],
      "metadata": {
        "id": "6ijVcSuT0GKp"
      },
      "execution_count": null,
      "outputs": []
    },
    {
      "cell_type": "markdown",
      "source": [
        "**Ruptura de ciclos**"
      ],
      "metadata": {
        "id": "whknE5E60i2I"
      }
    },
    {
      "cell_type": "code",
      "source": [
        "for i in range(1,6):  #Rango de 1 a 5\n",
        "    while i <= 4:\n",
        "        i += 1  #Sumamos a la variable de 1 en 1\n",
        "        print(i)\n",
        "    break    #Rompemos los ciclos, cuando salimos del primer ciclo while, aplicando solamente 1 ciclo for"
      ],
      "metadata": {
        "id": "767QqFR30ip0"
      },
      "execution_count": null,
      "outputs": []
    }
  ]
}