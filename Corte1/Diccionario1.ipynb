{
  "nbformat": 4,
  "nbformat_minor": 0,
  "metadata": {
    "colab": {
      "provenance": [],
      "authorship_tag": "ABX9TyMZkXPAJB7jfpg1TdyKSks8",
      "include_colab_link": true
    },
    "kernelspec": {
      "name": "python3",
      "display_name": "Python 3"
    },
    "language_info": {
      "name": "python"
    }
  },
  "cells": [
    {
      "cell_type": "markdown",
      "metadata": {
        "id": "view-in-github",
        "colab_type": "text"
      },
      "source": [
        "<a href=\"https://colab.research.google.com/github/RofB/AP0053-20243/blob/main/Corte1/Diccionario1.ipynb\" target=\"_parent\"><img src=\"https://colab.research.google.com/assets/colab-badge.svg\" alt=\"Open In Colab\"/></a>"
      ]
    },
    {
      "cell_type": "markdown",
      "source": [
        "**Diccionarios (String y numeros)**"
      ],
      "metadata": {
        "id": "Lrb1sjCFmH9a"
      }
    },
    {
      "cell_type": "code",
      "execution_count": null,
      "metadata": {
        "id": "LR0W_4Jnly3f"
      },
      "outputs": [],
      "source": [
        "sensores = {\"Cuarto\": 12, \"Baño\": 3, \"Comedor\": 54}                             #Creacion de diccionario\n",
        "print(sensores)                                                                 #Impresion de diccionario completo\n",
        "print(sensores[\"Baño\"],\"\\n\")                                                    #Impresion de valor de la clave\n",
        "\n",
        "traductor = {\"gato\": \"cat\", \"perro\": \"dog\", \"elefante\": \"elephant\"}\n",
        "print(traductor)\n",
        "print(traductor[\"gato\"])"
      ]
    },
    {
      "cell_type": "markdown",
      "source": [
        "**Diccionario con listas o tuplas**"
      ],
      "metadata": {
        "id": "8a-RrDdEnLQh"
      }
    },
    {
      "cell_type": "code",
      "source": [
        "#Encontrar el error\n",
        "#power = {[1, 2, 4, 8, 16]: 2, [1, 3, 9, 27, 81]: 3}                            #Una lista no puede ser una clave, pues es mutable\n",
        "#print(power)\n",
        "\n",
        "nombres = {\"Miguel\": [\"Peralta\", \"Betancourt\", \"Nieto\"], \"Cristian\": [\"Benitez\", \"Sanchez\", \"Guerrero\"]}  #String claves de listas\n",
        "print(nombres)\n",
        "print(nombres[\"Miguel\"])                                                        #Impresion de lista asignada a la clave\n",
        "print(nombres[\"Miguel\"][1],\"\\n\")                                                #Impresion de elemento de la lista\n",
        "\n",
        "power = {(1, 2, 4, 8, 16): 2, (1, 3, 9, 27, 81): 3}                             #Tuplas (inmutables), claves de listas\n",
        "print(power)\n",
        "print(power[(1, 3, 9, 27, 81)])"
      ],
      "metadata": {
        "id": "kEo03Kqcnia5"
      },
      "execution_count": null,
      "outputs": []
    },
    {
      "cell_type": "markdown",
      "source": [
        "**Modificacion de diccionarios**"
      ],
      "metadata": {
        "id": "pHhqxYXItFRw"
      }
    },
    {
      "cell_type": "code",
      "source": [
        "menu = {\"Carne\": 3, \"Leche\": 6, \"Huevos\": 4}\n",
        "print(f\"Antes: {menu}\")\n",
        "menu[\"Chocolate\"] = 7                                                           #Agregar clave-valor\n",
        "menu[\"Carne\"] = 8                                                               #Modificar clave-valor\n",
        "print(\"Despues\", menu, \"\\n\")\n",
        "\n",
        "animales_zoo = {\"Dinosaurios\": 7}                                               #Crea diccionario\n",
        "animales_zoo = {\"Caballos\": 2}                                                  #Modifica diccionario completamente\n",
        "print(\"El zoo tiene: \",animales_zoo, \"\\n\")\n",
        "\n",
        "########################################################\n",
        "\n",
        "diccionario_vacio = {}                                                          #Diccionario vacio\n",
        "print(\"El diccionario actual es: \", diccionario_vacio)\n",
        "\n",
        "diccionario_vacio[\"Migue\"] = 26                                                 #Agregar clave-valor\n",
        "diccionario_vacio[\"Nata\"] = \"Estudiante\"\n",
        "print(\"El diccionario actual es: \", diccionario_vacio)\n",
        "\n",
        "diccionario_vacio.update({\"Soni\": 30, \"Lore\": 25, \"Xiomi\": 34})                 #Agregar simultaneamente varios clave-valor\n",
        "print(\"El diccionario actual es: \", diccionario_vacio)\n",
        "\n",
        "del diccionario_vacio[\"Nata\"]                                                   #Eliminar clave-valor\n",
        "print(\"El diccionario actual es: \", diccionario_vacio)\n",
        "\n",
        "diccionario_vacio.clear()                                                       #Limpiar diccionario\n",
        "print(\"El diccionario actual es: \", diccionario_vacio, \"\\n\")"
      ],
      "metadata": {
        "id": "iRP8zB69tF1X"
      },
      "execution_count": null,
      "outputs": []
    },
    {
      "cell_type": "code",
      "source": [
        "ganadores_oscar = {\"Mejor Peli\": \"La La Land\", \"Mejor Actor\": \"Casey Affleck\", \"Mejor Actriz\": \"Emma Stone\", \"Pelicula Animada\": \"Zootopia\"}\n",
        "print(\"Primero\", ganadores_oscar)\n",
        "print()\n",
        "ganadores_oscar.update({\"Supporting Actress\": \"Viola Davis\"})                   #Agregar clave-valor\n",
        "print(\"Segundo\", ganadores_oscar)\n",
        "print()\n",
        "ganadores_oscar[\"Mejor Peli\"] = \"Moonlight\"                                     #Modificar clave-valor\n",
        "print(\"Tercero\", ganadores_oscar)"
      ],
      "metadata": {
        "id": "NE1wpXIOJlqV"
      },
      "execution_count": null,
      "outputs": []
    },
    {
      "cell_type": "markdown",
      "source": [
        "**Combinar listas en un diccionario**"
      ],
      "metadata": {
        "id": "ZGoO8jNnNj_m"
      }
    },
    {
      "cell_type": "code",
      "source": [
        "names = ['Aleja', 'Gabo', 'Jasson', 'Yiyis']                                    #Creacion de listas\n",
        "heights = [61, 70, 67, 64]\n",
        "\n",
        "zipStudents = zip(names, heights)                                               #Combina dos listas en un iterador de tuplas con los elementos de la lista emparejados\n",
        "print(\"zipStudents: \", zipStudents)\n",
        "\n",
        "estudiantes = {key:value for key, value in zip(names, heights)}                 #Reune las dos listas en un diccionario\n",
        "print(estudiantes, \"\\n\")\n",
        "\n",
        "################################################################\n",
        "\n",
        "bebidas = [\"espresso\", \"chai\", \"decaf\", \"drip\"]\n",
        "cafeina = [64, 40, 0, 120]\n",
        "\n",
        "zipped_drinks = zip(bebidas, cafeina)                                           #Combina dos listas en un iterador de tuplas con los elementos de la lista emparejados\n",
        "print(zipped_drinks)\n",
        "\n",
        "drinks_to_caffeine = {key:value for key, value in zipped_drinks}                #Reune las dos listas en un diccionario\n",
        "print(drinks_to_caffeine, \"\\n\")\n",
        "\n",
        "#################################################################\n",
        "\n",
        "canciones = [\"Like a Rolling Stone\", \"Satisfaction\", \"Imagine\", \"What's Going On\", \"Respect\", \"Good Vibrations\"]\n",
        "reproducciones = [78, 29, 44, 21, 89, 5]\n",
        "plays = {key:value for key, value in zip(canciones, reproducciones)}            #Reune las dos listas en un diccionario\n",
        "print(\"Primero: \", plays)\n",
        "plays.update({\"Purple Haze\": 1})                                                #Agregar clave-valor\n",
        "plays.update({\"Respect\": 94})\n",
        "print(\"Segundo: \", plays)\n",
        "library = {\"The Best Songs\": plays, \"Sunday Feelings\": {}}                      #Diccionario dentro de otro diccionario\n",
        "print(\"Tercero: \", library)"
      ],
      "metadata": {
        "id": "-nNShOOOJ1vB"
      },
      "execution_count": null,
      "outputs": []
    }
  ]
}