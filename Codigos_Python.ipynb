{
  "nbformat": 4,
  "nbformat_minor": 0,
  "metadata": {
    "colab": {
      "provenance": [],
      "authorship_tag": "ABX9TyMssTJkSXUcKr3e3ZKV411c",
      "include_colab_link": true
    },
    "kernelspec": {
      "name": "python3",
      "display_name": "Python 3"
    },
    "language_info": {
      "name": "python"
    }
  },
  "cells": [
    {
      "cell_type": "markdown",
      "metadata": {
        "id": "view-in-github",
        "colab_type": "text"
      },
      "source": [
        "<a href=\"https://colab.research.google.com/github/RofB/AP0053-20243/blob/main/Codigos_Python.ipynb\" target=\"_parent\"><img src=\"https://colab.research.google.com/assets/colab-badge.svg\" alt=\"Open In Colab\"/></a>"
      ]
    },
    {
      "cell_type": "code",
      "execution_count": null,
      "metadata": {
        "collapsed": true,
        "id": "vtxUlOkJe7t0"
      },
      "outputs": [],
      "source": [
        "#Divisible por un numero\n",
        "for i in range(100, 301):   #Rango de 100 hasta 300 (No incluye el limite final)\n",
        "    if (i%12) != 0:      #El % me devuelve el residuo de una division\n",
        "      continue             #Se salta las iteraciones pendientes y vuelve a evaluar\n",
        "    print(i)"
      ]
    },
    {
      "cell_type": "code",
      "source": [
        "#Calculo de un Factorial\n",
        "while True:\n",
        "\n",
        "    num = int(input(\"Ingrese un numero entero positivo: \"))\n",
        "    print(\"Su numero es: \", num)\n",
        "    a = isinstance(num, int)         #Devuelve n true si la variable evaluada es de ese tipo\n",
        "    if a == True and num > 0:\n",
        "        fact = 1\n",
        "        for i in range (1, num + 1):   #Range cuenta desde 0 si no se pone un limit\n",
        "            fact = fact*i\n",
        "        print(f'The factorial of {num} is: ', fact)\n",
        "    else:\n",
        "        print(\"Please, enter a positive integer number\")"
      ],
      "metadata": {
        "id": "0f5Kfui9ijvj"
      },
      "execution_count": null,
      "outputs": []
    },
    {
      "cell_type": "code",
      "source": [
        "a = input(\"Enter a number: \")\n",
        "a = float(a)\n",
        "b = input(\"Enter b number: \")\n",
        "b = int(b)\n",
        "c = a + b\n",
        "\n",
        "if a == b:\n",
        "    print(\"equal\")\n",
        "else:\n",
        "    print(\"Different\")\n",
        "\n",
        "print(\"Type of a is: \", type(a))\n",
        "print(\"Type of b is: \", type(b))\n",
        "print(\"c = \", c)\n",
        "\n",
        "if type(a) == type(b):\n",
        "    print(\"a and b are of the same type\")\n",
        "else:\n",
        "    print(\"a and b are of different type\")"
      ],
      "metadata": {
        "id": "tZq1rZbZrIvD"
      },
      "execution_count": null,
      "outputs": []
    },
    {
      "cell_type": "code",
      "source": [
        "# for i in range (1,21):\n",
        "#     residual = i%2\n",
        "#     if residual == 0:\n",
        "#         print(f'{i} is even')\n",
        "#     else:\n",
        "#         #print(f'{i} is odd')\n",
        "#         print(str(i) + ' is odd')\n",
        "\n",
        "# for i in range (0,6):\n",
        "#     result = i**3\n",
        "#     print(result)\n",
        "\n",
        "times = input(\"Ingresa un tiempo: \")\n",
        "times = float(times)\n",
        "times = int(times)\n",
        "print(type(times))\n",
        "print(times)\n",
        "\n",
        "if times == 0:\n",
        "    print(\"Don't do anything\")\n",
        "else:\n",
        "    for i in range(1,times+1):\n",
        "        print(\"i = \", i)"
      ],
      "metadata": {
        "id": "urCpHh8tr13j"
      },
      "execution_count": null,
      "outputs": []
    },
    {
      "cell_type": "code",
      "source": [
        "import time\n",
        "\n",
        "cadena = 'Python'\n",
        "\n",
        "for letra in cadena:\n",
        "   if letra == 't':\n",
        "      continue\n",
        "   print(letra)\n",
        "   time.sleep(1)\n"
      ],
      "metadata": {
        "id": "rclBrAhAGXoG"
      },
      "execution_count": null,
      "outputs": []
    },
    {
      "cell_type": "code",
      "source": [
        "import random\n",
        "from matplotlib import pyplot as plt\n",
        "\n",
        "# Add your code below:\n",
        "numbers_a = range(1, 13)\n",
        "numbers_b = [random.randint(1, 1000) for i in range(12)]\n",
        "plt.plot(numbers_b, numbers_a)\n",
        "plt.show(True)\n",
        "\n",
        "import time\n",
        "\n",
        "cadena = 'Python'\n",
        "\n",
        "for letra in cadena:\n",
        "   if letra == 't':\n",
        "      continue\n",
        "   print(letra)\n",
        "   time.sleep(1)\n"
      ],
      "metadata": {
        "id": "X5xlfE8QGrI9"
      },
      "execution_count": null,
      "outputs": []
    },
    {
      "cell_type": "code",
      "source": [
        "import time\n",
        "inicio = time.time()\n",
        "\n",
        "for i in range(0,31):\n",
        "    conta = 0\n",
        "    for n in range(1, i+1):\n",
        "        residue = i%n\n",
        "        if residue == 0:\n",
        "            conta = conta + 1\n",
        "\n",
        "    if conta == 2:\n",
        "        print(f'{i} es un primo')\n",
        "\n",
        "fin = time.time()\n",
        "print(\"t = \", (fin - inicio)*1000)"
      ],
      "metadata": {
        "id": "VHyRi35-G55V"
      },
      "execution_count": null,
      "outputs": []
    },
    {
      "cell_type": "code",
      "source": [],
      "metadata": {
        "id": "GA5i8OhjHLQt"
      },
      "execution_count": null,
      "outputs": []
    },
    {
      "cell_type": "markdown",
      "source": [],
      "metadata": {
        "id": "XZIvhwV_QM_C"
      }
    }
  ]
}