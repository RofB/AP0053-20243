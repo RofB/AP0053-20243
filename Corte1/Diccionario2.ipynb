{
  "nbformat": 4,
  "nbformat_minor": 0,
  "metadata": {
    "colab": {
      "provenance": [],
      "authorship_tag": "ABX9TyPWxYOu2cqROdjFcb9qY5Zp",
      "include_colab_link": true
    },
    "kernelspec": {
      "name": "python3",
      "display_name": "Python 3"
    },
    "language_info": {
      "name": "python"
    }
  },
  "cells": [
    {
      "cell_type": "markdown",
      "metadata": {
        "id": "view-in-github",
        "colab_type": "text"
      },
      "source": [
        "<a href=\"https://colab.research.google.com/github/RofB/AP0053-20243/blob/main/Corte1/Diccionario2.ipynb\" target=\"_parent\"><img src=\"https://colab.research.google.com/assets/colab-badge.svg\" alt=\"Open In Colab\"/></a>"
      ]
    },
    {
      "cell_type": "markdown",
      "source": [
        "**Acceder al valor con la clave**"
      ],
      "metadata": {
        "id": "MDr4i7gwdhQO"
      }
    },
    {
      "cell_type": "code",
      "execution_count": null,
      "metadata": {
        "id": "tKsrWiNGdJL6"
      },
      "outputs": [],
      "source": [
        "altura_edificios = {\"Colpatria\":34, \"Bancolombia\":9.8, \"UGI\":12.1, \"Falculta Ing\":20}\n",
        "print(\"El Colpatria mide:\", altura_edificios[\"Colpatria\"])\n",
        "print(\"La facu de ingenieria mide:\", altura_edificios[\"Falculta Ing\"])\n",
        "\n",
        "#print(altura_edificios[\"Macarena\"])                                            #Hay error si se imprime el valor de una clave inexistente\n",
        "verificar = \"Macarena\"\n",
        "if verificar in altura_edificios:                                               #Se comprueba antes, si la clave existe en el diccionario\n",
        "    print(verificar[\"Macarena\"])\n",
        "else:\n",
        "    print(\"La clave no existe\", \"\\n\")                                           #De lo contrario imprime su inexistencia\n",
        "\n",
        "altura_edificios.get(\"UGI\")                                                     #Otra forma de acceder al valor de una clave\n",
        "altura_edificios.get(\"Macarena\")                                                #Si la clave no existe, devuelve None\n",
        "\n",
        "######################################################################\n",
        "\n",
        "zodiac_elements = {\"agua\": [\"Cancer\", \"Scorpio\", \"Pisces\"], \"fuego\": [\"Aries\", \"Leo\", \"Sagittarius\"], \"tierra\": [\"Taurus\", \"Virgo\", \"Capricorn\"], \"aire\":[\"Gemini\", \"Libra\", \"Aquarius\"]}\n",
        "print(\"Los elementos tierra son:\", zodiac_elements[\"tierra\"])\n",
        "print(\"Los elementos fuego son:\", zodiac_elements[\"fuego\"])\n",
        "\n",
        "zodiac_elements[\"energia\"] = \"No es un elemento del zodiaco\"\n",
        "\n",
        "if \"energia\" in zodiac_elements:\n",
        "    print(\"Energia:\", zodiac_elements[\"energia\"])                               #Se puede verificar la existencia de la clave sin una variable intermedia\n",
        "\n",
        "######################################################################\n",
        "\n",
        "codEst = {\"Rob\": 382019, \"Migue\": 182921, \"Nata\": 123112, \"Soni\": 200567}\n",
        "\n",
        "if codEst.get(\"Rob\") == None:\n",
        "   nuevoCod = 1000                                                              #Si la clave no existe, asigna 1000 a una varible\n",
        "else:\n",
        "   nuevoCod = codEst.get(\"Rob\")                                                 #Si la clave existe, asigna su valor a una varible\n",
        "\n",
        "print(\"El nuevo codigo de Rob, es:\", nuevoCod)"
      ]
    },
    {
      "cell_type": "markdown",
      "source": [
        "**Devolver el valor y eliminar**"
      ],
      "metadata": {
        "id": "npIxXDQDKxmH"
      }
    },
    {
      "cell_type": "code",
      "source": [
        "feria = {223842: \"Teddy Bear\", 872921: \"Concert Tickets\", 320291: \"Gift Basket\", 412123: \"Necklace\", 298787: \"Pasta Maker\"}\n",
        "print(feria)\n",
        "print(feria.pop(320291, \"No Prize\"))                                            #.pop() devuelve el valor buscando la clave, y lo elimina\n",
        "print(feria)\n",
        "print(feria.pop(100000, \"No Prize\"), \"\\n\")                                      #Si la clave no existe, devuelve lo escrito\n",
        "\n",
        "################################################################\n",
        "\n",
        "objetos = {\"health potion\": 10, \"cake of the cure\": 5, \"green elixir\": 20, \"strength sandwich\": 25, \"stamina grains\": 15, \"power stew\": 30}\n",
        "puntos_de_vida = 20\n",
        "\n",
        "puntos_de_vida += objetos.pop(\"stamina grains\", 0)                              #Devuelve el valor de la clave buscada y se lo suma a la variable, eliminandola\n",
        "puntos_de_vida += objetos.pop(\"power stew\", 0)\n",
        "puntos_de_vida += objetos.pop(\"mystic bread\", 0)                                #Si la clave no existe, devuelve 0 y no le suma nada\n",
        "\n",
        "print(\"Sus objetos restantes son:\", objetos)\n",
        "print(f\"{puntos_de_vida} puntos de vida\")"
      ],
      "metadata": {
        "id": "o-J9gaLdLevI"
      },
      "execution_count": null,
      "outputs": []
    },
    {
      "cell_type": "markdown",
      "source": [
        "**Acceso a las claves**"
      ],
      "metadata": {
        "id": "Ij2yB0YySn4i"
      }
    },
    {
      "cell_type": "code",
      "source": [
        "test_scores = {\"Grace\":[80, 72, 90], \"Jeffrey\":[88, 68, 81], \"Sylvia\":[80, 82, 84], \"Pedro\":[98, 96, 95], \"Martin\":[78, 80, 78], \"Dina\":[64, 60, 75]}\n",
        "print(list(test_scores))                                                        #Devuelve una lista con las claves del diccionario\n",
        "\n",
        "for student in test_scores.keys():                                              #Devuelve uno por uno las claves, en un ciclo\n",
        "    print(student)\n",
        "print()\n",
        "\n",
        "###############################################################\n",
        "\n",
        "user_ids = {\"teraCoder\": 100019, \"pythonGuy\": 182921, \"samTheJavaMaam\": 123112, \"lyleLoop\": 102931, \"keysmithKeith\": 129384}\n",
        "num_exercises = {\"functions\": 10, \"syntax\": 13, \"control flow\": 15, \"loops\": 22, \"lists\": 19, \"classes\": 18, \"dictionaries\": 18}\n",
        "\n",
        "users = user_ids.keys()                                                         #Devuelve una lista con las claves del diccionario\n",
        "lessons = num_exercises.keys()\n",
        "\n",
        "print(\"Los usuarios son:\",users)\n",
        "print(\"Las lesiones son:\",lessons)"
      ],
      "metadata": {
        "id": "-ZNtaodZSo7o"
      },
      "execution_count": null,
      "outputs": []
    },
    {
      "cell_type": "markdown",
      "source": [
        "**Acceso a los valores**"
      ],
      "metadata": {
        "id": "5MGBm7azWSPh"
      }
    },
    {
      "cell_type": "code",
      "source": [
        "test_scores = {\"Grace\":[80, 72, 90], \"Jeffrey\":[88, 68, 81], \"Sylvia\":[80, 82, 84], \"Pedro\":[98, 96, 95], \"Martin\":[78, 80, 78], \"Dina\":[64, 60, 75]}\n",
        "\n",
        "for score_list in test_scores.values():                                         #Devuelve uno por uno los valores del diccionario\n",
        "  print(score_list)\n",
        "\n",
        "num_exercises = {\"functions\": 10, \"syntax\": 13, \"control flow\": 15, \"loops\": 22, \"lists\": 19, \"classes\": 18, \"dictionaries\": 18}\n",
        "total_exercises = 0\n",
        "\n",
        "for exercises in num_exercises.values():                                        #Devuelve uno por uno los valores del diccionario\n",
        "  total_exercises += exercises                                                  #Suma uno por uno los valores del diccionario a la variable\n",
        "print(total_exercises)"
      ],
      "metadata": {
        "id": "CM7dn5mFWRwh"
      },
      "execution_count": null,
      "outputs": []
    },
    {
      "cell_type": "markdown",
      "source": [
        "**Acesso a claves y valores**"
      ],
      "metadata": {
        "id": "txsydhglb402"
      }
    },
    {
      "cell_type": "code",
      "source": [
        "empresas = {\"Apple\": 184, \"Google\": 141.7, \"Microsoft\": 80, \"Coca-Cola\": 69.7, \"Amazon\": 64.8}\n",
        "\n",
        "for company, value in empresas.items():                                         #Asigna uno por uno las claves y los valores del diccionario\n",
        "  print(company + \" has a value of \" + str(value) + \" billion dollars. \")       #Imprime las claves y los valores del diccionario\n",
        "print()\n",
        "\n",
        "################################################################\n",
        "\n",
        "empleos = {\"CEO\": 28, \"Engineering Manager\": 9, \"Pharmacist\": 58, \"Physician\": 40, \"Lawyer\": 37, \"Aerospace Engineer\": 9}\n",
        "\n",
        "for occupation, percentage in empleos.items():                                  #Asigna uno por uno las claves y los valores del diccionario\n",
        "  print(\"Women make up \" + str(percentage) + \" percent of \" + occupation + \"s.\")#Imprime las claves y los valores del diccionario"
      ],
      "metadata": {
        "id": "2vnZasTAKkAx"
      },
      "execution_count": null,
      "outputs": []
    }
  ]
}